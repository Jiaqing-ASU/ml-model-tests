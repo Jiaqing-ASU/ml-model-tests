{
 "cells": [
  {
   "cell_type": "code",
   "execution_count": 3,
   "metadata": {},
   "outputs": [],
   "source": [
    "import time\n",
    "import random\n",
    "import numpy as np\n",
    "import matplotlib.pyplot as plt\n",
    "from keras.datasets import cifar10\n",
    "from keras.models import load_model\n",
    "from tensorflow.keras.utils import to_categorical\n",
    "from keras.applications.vgg16 import VGG16\n",
    "from keras.preprocessing import image\n",
    "from keras.applications.vgg16 import preprocess_input\n",
    "from keras.models import Model\n",
    "import tensorflow as tf"
   ]
  },
  {
   "cell_type": "code",
   "execution_count": 7,
   "metadata": {},
   "outputs": [
    {
     "name": "stdout",
     "output_type": "stream",
     "text": [
      "file load time 0.5738609999999991s\n",
      "model load time 0.4001380000000001s\n",
      "WARNING:tensorflow:5 out of the last 5 calls to <function Model.make_predict_function.<locals>.predict_function at 0x7f77a7ba59d8> triggered tf.function retracing. Tracing is expensive and the excessive number of tracings could be due to (1) creating @tf.function repeatedly in a loop, (2) passing tensors with different shapes, (3) passing Python objects instead of tensors. For (1), please define your @tf.function outside of the loop. For (2), @tf.function has experimental_relax_shapes=True option that relaxes argument shapes that can avoid unnecessary retracing. For (3), please refer to https://www.tensorflow.org/guide/function#controlling_retracing and https://www.tensorflow.org/api_docs/python/tf/function for  more details.\n",
      "inference time 0.4286159999999999s\n"
     ]
    }
   ],
   "source": [
    "start = time.clock()\n",
    "(_, _), (x_test, y_test) = cifar10.load_data()\n",
    "print('file load time {}s'.format(time.clock() - start))\n",
    "x_test = x_test.astype('float32') / 255 \n",
    "y_test = to_categorical(y_test, 10)\n",
    "\n",
    "start = time.clock()\n",
    "model = VGG16(weights='imagenet', include_top=False, input_shape=(32, 32, 3))\n",
    "print('model load time {}s'.format(time.clock() - start))\n",
    "\n",
    "index = random.randint(0, x_test.shape[0]-1)\n",
    "x = x_test[index]\n",
    "y = y_test[index]\n",
    "\n",
    "x = x[None]\n",
    "start = time.clock()\n",
    "predict = model.predict(x)\n",
    "print('inference time {}s'.format(time.clock() - start))"
   ]
  },
  {
   "cell_type": "code",
   "execution_count": null,
   "metadata": {},
   "outputs": [],
   "source": []
  }
 ],
 "metadata": {
  "kernelspec": {
   "display_name": "Python 3",
   "language": "python",
   "name": "python3"
  },
  "language_info": {
   "codemirror_mode": {
    "name": "ipython",
    "version": 3
   },
   "file_extension": ".py",
   "mimetype": "text/x-python",
   "name": "python",
   "nbconvert_exporter": "python",
   "pygments_lexer": "ipython3",
   "version": "3.6.9"
  }
 },
 "nbformat": 4,
 "nbformat_minor": 2
}
