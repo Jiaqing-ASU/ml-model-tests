{
 "cells": [
  {
   "cell_type": "code",
   "execution_count": 8,
   "metadata": {},
   "outputs": [],
   "source": [
    "import psycopg2\n",
    "\n",
    "t_host = \"localhost\"\n",
    "t_port = \"5432\"\n",
    "t_dbname = \"postgres\"\n",
    "t_user = \"postgres\"\n",
    "t_pw = \"postgres\"\n",
    "db_conn = psycopg2.connect(host=t_host, port=t_port, dbname=t_dbname, user=t_user, password=t_pw)\n",
    "db_cursor = db_conn.cursor()"
   ]
  },
  {
   "cell_type": "code",
   "execution_count": 2,
   "metadata": {},
   "outputs": [],
   "source": [
    "try:\n",
    "    db_cursor.execute(\"CREATE TABLE imdb(id numeric, drawing_data bytea);\")\n",
    "except psycopg2.Error as e:\n",
    "    print(e)"
   ]
  },
  {
   "cell_type": "code",
   "execution_count": 3,
   "metadata": {},
   "outputs": [],
   "source": [
    "import psycopg2\n",
    "import config\n",
    "\n",
    "def write_blob(part_id, path_to_file):\n",
    "    try:\n",
    "        # read data from a picture\n",
    "        drawing = open(path_to_file, 'rb').read()\n",
    "        # execute the INSERT statement\n",
    "        db_cursor.execute(\"INSERT INTO imdb(id,drawing_data) \" +\n",
    "                    \"VALUES(%s,%s)\",\n",
    "                    (part_id, psycopg2.Binary(drawing)))\n",
    "        # commit the changes to the database\n",
    "        db_conn.commit()\n",
    "        # close the communication with the PostgresQL database\n",
    "        db_cursor.close()\n",
    "    except (Exception, psycopg2.DatabaseError) as error:\n",
    "        print(error)\n",
    "    finally:\n",
    "        if db_conn is not None:\n",
    "            db_conn.close()"
   ]
  },
  {
   "cell_type": "code",
   "execution_count": 4,
   "metadata": {},
   "outputs": [],
   "source": [
    "if __name__ == '__main__':\n",
    "    write_blob(1, 'IMDB_Dataset.csv')"
   ]
  },
  {
   "cell_type": "code",
   "execution_count": 6,
   "metadata": {},
   "outputs": [],
   "source": [
    "import sqlite3\n",
    "\n",
    "def writeTofile(data, filename):\n",
    "    # Convert binary data to proper format and write it on Hard Disk\n",
    "    with open(filename, 'wb') as file:\n",
    "        file.write(data)\n",
    "    print(\"Stored blob data into: \", filename, \"\\n\")\n",
    "\n",
    "def read_blob(part_id, path_to_dir):\n",
    "    \"\"\" read BLOB data from a table \"\"\"\n",
    "    try:\n",
    "        # execute the SELECT statement\n",
    "        db_cursor.execute(\"\"\" SELECT id, drawing_data\n",
    "                        FROM imdb WHERE id = %s \"\"\",\n",
    "                    (part_id,))\n",
    "        blob = db_cursor.fetchone()\n",
    "        data = blob[1]\n",
    "        writeTofile(data,path_to_dir)\n",
    "        # close the communication with the PostgresQL database\n",
    "        db_cursor.close()\n",
    "    except (Exception, psycopg2.DatabaseError) as error:\n",
    "        print(error)\n",
    "    finally:\n",
    "        if db_conn is not None:\n",
    "            db_conn.close()"
   ]
  },
  {
   "cell_type": "code",
   "execution_count": 9,
   "metadata": {},
   "outputs": [
    {
     "name": "stdout",
     "output_type": "stream",
     "text": [
      "Stored blob data into:  /home/jiaqingchen/ModelTests/imdb.csv \n",
      "\n",
      "time cost 1.0970191955566406 s\n"
     ]
    }
   ],
   "source": [
    "import numpy\n",
    "import time\n",
    "import matplotlib.pyplot as plt\n",
    "import pickle\n",
    "import sys\n",
    "import os\n",
    "\n",
    "time_start=time.time()\n",
    "read_blob(1,\"/home/jiaqingchen/ModelTests/imdb.csv\")\n",
    "time_end=time.time()\n",
    "print('time cost',(time_end-time_start),'s')"
   ]
  },
  {
   "cell_type": "code",
   "execution_count": null,
   "metadata": {},
   "outputs": [],
   "source": []
  }
 ],
 "metadata": {
  "kernelspec": {
   "display_name": "Python 3",
   "language": "python",
   "name": "python3"
  },
  "language_info": {
   "codemirror_mode": {
    "name": "ipython",
    "version": 3
   },
   "file_extension": ".py",
   "mimetype": "text/x-python",
   "name": "python",
   "nbconvert_exporter": "python",
   "pygments_lexer": "ipython3",
   "version": "3.6.9"
  }
 },
 "nbformat": 4,
 "nbformat_minor": 2
}
