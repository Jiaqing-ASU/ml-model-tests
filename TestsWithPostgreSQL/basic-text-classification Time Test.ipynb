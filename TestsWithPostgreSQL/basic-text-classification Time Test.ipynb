{
 "cells": [
  {
   "cell_type": "markdown",
   "metadata": {
    "id": "Ic4_occAAiAT"
   },
   "source": [
    "##### Copyright 2019 The TensorFlow Hub Authors.\n",
    "\n",
    "Licensed under the Apache License, Version 2.0 (the \"License\");"
   ]
  },
  {
   "cell_type": "code",
   "execution_count": null,
   "metadata": {
    "cellView": "both",
    "id": "ioaprt5q5US7"
   },
   "outputs": [],
   "source": [
    "# Copyright 2019 The TensorFlow Hub Authors. All Rights Reserved.\n",
    "#\n",
    "# Licensed under the Apache License, Version 2.0 (the \"License\");\n",
    "# you may not use this file except in compliance with the License.\n",
    "# You may obtain a copy of the License at\n",
    "#\n",
    "#     http://www.apache.org/licenses/LICENSE-2.0\n",
    "#\n",
    "# Unless required by applicable law or agreed to in writing, software\n",
    "# distributed under the License is distributed on an \"AS IS\" BASIS,\n",
    "# WITHOUT WARRANTIES OR CONDITIONS OF ANY KIND, either express or implied.\n",
    "# See the License for the specific language governing permissions and\n",
    "# limitations under the License.\n",
    "# =============================================================================="
   ]
  },
  {
   "cell_type": "code",
   "execution_count": null,
   "metadata": {
    "cellView": "form",
    "id": "yCl0eTNH5RS3"
   },
   "outputs": [],
   "source": [
    "#@title MIT License\n",
    "#\n",
    "# Copyright (c) 2017 François Chollet\n",
    "#\n",
    "# Permission is hereby granted, free of charge, to any person obtaining a\n",
    "# copy of this software and associated documentation files (the \"Software\"),\n",
    "# to deal in the Software without restriction, including without limitation\n",
    "# the rights to use, copy, modify, merge, publish, distribute, sublicense,\n",
    "# and/or sell copies of the Software, and to permit persons to whom the\n",
    "# Software is furnished to do so, subject to the following conditions:\n",
    "#\n",
    "# The above copyright notice and this permission notice shall be included in\n",
    "# all copies or substantial portions of the Software.\n",
    "#\n",
    "# THE SOFTWARE IS PROVIDED \"AS IS\", WITHOUT WARRANTY OF ANY KIND, EXPRESS OR\n",
    "# IMPLIED, INCLUDING BUT NOT LIMITED TO THE WARRANTIES OF MERCHANTABILITY,\n",
    "# FITNESS FOR A PARTICULAR PURPOSE AND NONINFRINGEMENT. IN NO EVENT SHALL\n",
    "# THE AUTHORS OR COPYRIGHT HOLDERS BE LIABLE FOR ANY CLAIM, DAMAGES OR OTHER\n",
    "# LIABILITY, WHETHER IN AN ACTION OF CONTRACT, TORT OR OTHERWISE, ARISING\n",
    "# FROM, OUT OF OR IN CONNECTION WITH THE SOFTWARE OR THE USE OR OTHER\n",
    "# DEALINGS IN THE SOFTWARE."
   ]
  },
  {
   "cell_type": "markdown",
   "metadata": {
    "id": "ItXfxkxvosLH"
   },
   "source": [
    "# Text Classification with Movie Reviews"
   ]
  },
  {
   "cell_type": "markdown",
   "metadata": {
    "id": "MfBg1C5NB3X0"
   },
   "source": [
    "<table class=\"tfo-notebook-buttons\" align=\"left\">\n",
    "  <td>\n",
    "    <a target=\"_blank\" href=\"https://www.tensorflow.org/hub/tutorials/tf2_text_classification\"><img src=\"https://www.tensorflow.org/images/tf_logo_32px.png\" />View on TensorFlow.org</a>\n",
    "  </td>\n",
    "  <td>\n",
    "    <a target=\"_blank\" href=\"https://colab.research.google.com/github/tensorflow/hub/blob/master/examples/colab/tf2_text_classification.ipynb\"><img src=\"https://www.tensorflow.org/images/colab_logo_32px.png\" />Run in Google Colab</a>\n",
    "  </td>\n",
    "  <td>\n",
    "    <a target=\"_blank\" href=\"https://github.com/tensorflow/hub/blob/master/examples/colab/tf2_text_classification.ipynb\"><img src=\"https://www.tensorflow.org/images/GitHub-Mark-32px.png\" />View on GitHub</a>\n",
    "  </td>\n",
    "  <td>\n",
    "    <a href=\"https://storage.googleapis.com/tensorflow_docs/hub/examples/colab/tf2_text_classification.ipynb\"><img src=\"https://www.tensorflow.org/images/download_logo_32px.png\" />Download notebook</a>\n",
    "  </td>\n",
    "  <td>\n",
    "    <a href=\"https://tfhub.dev/google/collections/nnlm/1\"><img src=\"https://www.tensorflow.org/images/hub_logo_32px.png\" />See TF Hub models</a>\n",
    "  </td>\n",
    "</table>"
   ]
  },
  {
   "cell_type": "markdown",
   "metadata": {
    "id": "Eg62Pmz3o83v"
   },
   "source": [
    "This notebook classifies movie reviews as *positive* or *negative* using the text of the review. This is an example of *binary*—or two-class—classification, an important and widely applicable kind of machine learning problem. \n",
    "\n",
    "We'll use the [IMDB dataset](https://www.tensorflow.org/api_docs/python/tf/keras/datasets/imdb) that contains the text of 50,000 movie reviews from the [Internet Movie Database](https://www.imdb.com/). These are split into 25,000 reviews for training and 25,000 reviews for testing. The training and testing sets are *balanced*, meaning they contain an equal number of positive and negative reviews. \n",
    "\n",
    "This notebook uses [tf.keras](https://www.tensorflow.org/guide/keras), a high-level API to build and train models in TensorFlow, and [TensorFlow Hub](https://www.tensorflow.org/hub), a library and platform for transfer learning. For a more advanced text classification tutorial using `tf.keras`, see the [MLCC Text Classification Guide](https://developers.google.com/machine-learning/guides/text-classification/)."
   ]
  },
  {
   "cell_type": "markdown",
   "metadata": {
    "id": "qrk8NjzhSBh-"
   },
   "source": [
    "### More models\n",
    "[Here](https://tfhub.dev/s?module-type=text-embedding) you can find more expressive or performant models that you could use to generate the text embedding."
   ]
  },
  {
   "cell_type": "markdown",
   "metadata": {
    "id": "Q4DN769E2O_R"
   },
   "source": [
    "## Setup"
   ]
  },
  {
   "cell_type": "code",
   "execution_count": 1,
   "metadata": {
    "id": "2ew7HTbPpCJH"
   },
   "outputs": [
    {
     "name": "stdout",
     "output_type": "stream",
     "text": [
      "Version:  2.5.0\n",
      "Eager mode:  True\n",
      "Hub version:  0.12.0\n",
      "GPU is NOT AVAILABLE\n"
     ]
    }
   ],
   "source": [
    "import numpy as np\n",
    "import time\n",
    "import tensorflow as tf\n",
    "import tensorflow_hub as hub\n",
    "import tensorflow_datasets as tfds\n",
    "\n",
    "import matplotlib.pyplot as plt\n",
    "\n",
    "print(\"Version: \", tf.__version__)\n",
    "print(\"Eager mode: \", tf.executing_eagerly())\n",
    "print(\"Hub version: \", hub.__version__)\n",
    "print(\"GPU is\", \"available\" if tf.config.list_physical_devices('GPU') else \"NOT AVAILABLE\")"
   ]
  },
  {
   "cell_type": "markdown",
   "metadata": {
    "id": "iAsKG535pHep"
   },
   "source": [
    "## Download the IMDB dataset\n",
    "\n",
    "The IMDB dataset is available on [TensorFlow datasets](https://github.com/tensorflow/datasets). The following code downloads the IMDB dataset to your machine (or the colab runtime):"
   ]
  },
  {
   "cell_type": "code",
   "execution_count": 13,
   "metadata": {
    "id": "zXXx5Oc3pOmN"
   },
   "outputs": [],
   "source": [
    "start = time.clock()\n",
    "train_data, test_data = tfds.load(name=\"imdb_reviews\", split=[\"train\", \"test\"], \n",
    "                                  batch_size=-1, as_supervised=True)\n",
    "train_examples, train_labels = tfds.as_numpy(train_data)\n",
    "test_examples, test_labels = tfds.as_numpy(test_data)\n",
    "file_load_time = time.clock() - start"
   ]
  },
  {
   "cell_type": "markdown",
   "metadata": {
    "id": "l50X3GfjpU4r"
   },
   "source": [
    "## Explore the data \n",
    "\n",
    "Let's take a moment to understand the format of the data. Each example is a sentence representing the movie review and a corresponding label. The sentence is not preprocessed in any way. The label is an integer value of either 0 or 1, where 0 is a negative review, and 1 is a positive review."
   ]
  },
  {
   "cell_type": "code",
   "execution_count": 3,
   "metadata": {
    "id": "y8qCnve_-lkO"
   },
   "outputs": [
    {
     "name": "stdout",
     "output_type": "stream",
     "text": [
      "Training entries: 25000, test entries: 25000\n"
     ]
    }
   ],
   "source": [
    "print(\"Training entries: {}, test entries: {}\".format(len(train_examples), len(test_examples)))"
   ]
  },
  {
   "cell_type": "markdown",
   "metadata": {
    "id": "RnKvHWW4-lkW"
   },
   "source": [
    "Let's print first 10 examples."
   ]
  },
  {
   "cell_type": "code",
   "execution_count": null,
   "metadata": {
    "id": "QtTS4kpEpjbi"
   },
   "outputs": [],
   "source": [
    "train_examples[:10]"
   ]
  },
  {
   "cell_type": "markdown",
   "metadata": {
    "id": "IFtaCHTdc-GY"
   },
   "source": [
    "Let's also print the first 10 labels."
   ]
  },
  {
   "cell_type": "code",
   "execution_count": null,
   "metadata": {
    "id": "tvAjVXOWc6Mj"
   },
   "outputs": [],
   "source": [
    "train_labels[:10]"
   ]
  },
  {
   "cell_type": "markdown",
   "metadata": {
    "id": "LLC02j2g-llC"
   },
   "source": [
    "## Build the model\n",
    "\n",
    "The neural network is created by stacking layers—this requires three main architectural decisions:\n",
    "\n",
    "* How to represent the text?\n",
    "* How many layers to use in the model?\n",
    "* How many *hidden units* to use for each layer?\n",
    "\n",
    "In this example, the input data consists of sentences. The labels to predict are either 0 or 1.\n",
    "\n",
    "One way to represent the text is to convert sentences into embeddings vectors. We can use a pre-trained text embedding as the first layer, which will have two advantages:\n",
    "*   we don't have to worry about text preprocessing,\n",
    "*   we can benefit from transfer learning.\n",
    "\n",
    "For this example we will use a model from [TensorFlow Hub](https://www.tensorflow.org/hub) called [google/nnlm-en-dim50/2](https://tfhub.dev/google/nnlm-en-dim50/2).\n",
    "\n",
    "There are two other models to test for the sake of this tutorial:\n",
    "* [google/nnlm-en-dim50-with-normalization/2](https://tfhub.dev/google/nnlm-en-dim50-with-normalization/2) - same as [google/nnlm-en-dim50/2](https://tfhub.dev/google/nnlm-en-dim50/2), but with additional text normalization to remove punctuation. This can help to get better coverage of in-vocabulary embeddings for tokens on your input text.\n",
    "* [google/nnlm-en-dim128-with-normalization/2](https://tfhub.dev/google/nnlm-en-dim128-with-normalization/2) - A larger model with an embedding dimension of 128 instead of the smaller 50."
   ]
  },
  {
   "cell_type": "markdown",
   "metadata": {
    "id": "In2nDpTLkgKa"
   },
   "source": [
    "Let's first create a Keras layer that uses a TensorFlow Hub model to embed the sentences, and try it out on a couple of input examples. Note that the output shape of the produced embeddings is a expected: `(num_examples, embedding_dimension)`."
   ]
  },
  {
   "cell_type": "code",
   "execution_count": 4,
   "metadata": {
    "id": "_NUbzVeYkgcO"
   },
   "outputs": [],
   "source": [
    "start = time.clock()\n",
    "model = \"https://tfhub.dev/google/nnlm-en-dim50/2\"\n",
    "hub_layer = hub.KerasLayer(model, input_shape=[], dtype=tf.string, trainable=True)\n",
    "hub_layer(train_examples[:3])\n",
    "model_load_time = time.clock() - start"
   ]
  },
  {
   "cell_type": "markdown",
   "metadata": {
    "id": "dfSbV6igl1EH"
   },
   "source": [
    "Let's now build the full model:"
   ]
  },
  {
   "cell_type": "code",
   "execution_count": 5,
   "metadata": {
    "id": "xpKOoWgu-llD"
   },
   "outputs": [
    {
     "name": "stdout",
     "output_type": "stream",
     "text": [
      "Model: \"sequential\"\n",
      "_________________________________________________________________\n",
      "Layer (type)                 Output Shape              Param #   \n",
      "=================================================================\n",
      "keras_layer (KerasLayer)     (None, 50)                48190600  \n",
      "_________________________________________________________________\n",
      "dense (Dense)                (None, 16)                816       \n",
      "_________________________________________________________________\n",
      "dense_1 (Dense)              (None, 1)                 17        \n",
      "=================================================================\n",
      "Total params: 48,191,433\n",
      "Trainable params: 48,191,433\n",
      "Non-trainable params: 0\n",
      "_________________________________________________________________\n"
     ]
    }
   ],
   "source": [
    "start = time.clock()\n",
    "model = tf.keras.Sequential()\n",
    "model.add(hub_layer)\n",
    "model.add(tf.keras.layers.Dense(16, activation='relu'))\n",
    "model.add(tf.keras.layers.Dense(1))\n",
    "model.summary()\n",
    "model_load_time = model_load_time + time.clock() - start"
   ]
  },
  {
   "cell_type": "markdown",
   "metadata": {
    "id": "6PbKQ6mucuKL"
   },
   "source": [
    "The layers are stacked sequentially to build the classifier:\n",
    "\n",
    "1. The first layer is a TensorFlow Hub layer. This layer uses a pre-trained Saved Model to map a sentence into its embedding vector. The model that we are using ([google/nnlm-en-dim50/2](https://tfhub.dev/google/nnlm-en-dim50/2)) splits the sentence into tokens, embeds each token and then combines the embedding. The resulting dimensions are: `(num_examples, embedding_dimension)`.\n",
    "2. This fixed-length output vector is piped through a fully-connected (`Dense`) layer with 16 hidden units.\n",
    "3. The last layer is densely connected with a single output node. This outputs logits: the log-odds of the true class, according to the model."
   ]
  },
  {
   "cell_type": "markdown",
   "metadata": {
    "id": "0XMwnDOp-llH"
   },
   "source": [
    "### Hidden units\n",
    "\n",
    "The above model has two intermediate or \"hidden\" layers, between the input and output. The number of outputs (units, nodes, or neurons) is the dimension of the representational space for the layer. In other words, the amount of freedom the network is allowed when learning an internal representation.\n",
    "\n",
    "If a model has more hidden units (a higher-dimensional representation space), and/or more layers, then the network can learn more complex representations. However, it makes the network more computationally expensive and may lead to learning unwanted patterns—patterns that improve performance on training data but not on the test data. This is called *overfitting*, and we'll explore it later."
   ]
  },
  {
   "cell_type": "markdown",
   "metadata": {
    "id": "L4EqVWg4-llM"
   },
   "source": [
    "### Loss function and optimizer\n",
    "\n",
    "A model needs a loss function and an optimizer for training. Since this is a binary classification problem and the model outputs a probability (a single-unit layer with a sigmoid activation), we'll use the `binary_crossentropy` loss function. \n",
    "\n",
    "This isn't the only choice for a loss function, you could, for instance, choose `mean_squared_error`. But, generally, `binary_crossentropy` is better for dealing with probabilities—it measures the \"distance\" between probability distributions, or in our case, between the ground-truth distribution and the predictions.\n",
    "\n",
    "Later, when we are exploring regression problems (say, to predict the price of a house), we will see how to use another loss function called mean squared error.\n",
    "\n",
    "Now, configure the model to use an optimizer and a loss function:"
   ]
  },
  {
   "cell_type": "code",
   "execution_count": 6,
   "metadata": {
    "id": "Mr0GP-cQ-llN"
   },
   "outputs": [],
   "source": [
    "start = time.clock()\n",
    "model.compile(optimizer='adam',\n",
    "              loss=tf.losses.BinaryCrossentropy(from_logits=True),\n",
    "              metrics=[tf.metrics.BinaryAccuracy(threshold=0.0, name='accuracy')])\n",
    "model_load_time = model_load_time + time.clock() - start\n",
    "data_load_time = file_load_time + model_load_time"
   ]
  },
  {
   "cell_type": "markdown",
   "metadata": {
    "id": "hCWYwkug-llQ"
   },
   "source": [
    "## Create a validation set\n",
    "\n",
    "When training, we want to check the accuracy of the model on data it hasn't seen before. Create a *validation set* by setting apart 10,000 examples from the original training data. (Why not use the testing set now? Our goal is to develop and tune our model using only the training data, then use the test data just once to evaluate our accuracy)."
   ]
  },
  {
   "cell_type": "code",
   "execution_count": 7,
   "metadata": {
    "id": "-NpcXY9--llS"
   },
   "outputs": [],
   "source": [
    "x_val = train_examples[:10000]\n",
    "partial_x_train = train_examples[10000:]\n",
    "\n",
    "y_val = train_labels[:10000]\n",
    "partial_y_train = train_labels[10000:]"
   ]
  },
  {
   "cell_type": "markdown",
   "metadata": {
    "id": "35jv_fzP-llU"
   },
   "source": [
    "## Train the model\n",
    "\n",
    "Train the model for 40 epochs in mini-batches of 512 samples. This is 40 iterations over all samples in the `x_train` and `y_train` tensors. While training, monitor the model's loss and accuracy on the 10,000 samples from the validation set:"
   ]
  },
  {
   "cell_type": "code",
   "execution_count": 8,
   "metadata": {
    "id": "tXSGrjWZ-llW"
   },
   "outputs": [
    {
     "name": "stdout",
     "output_type": "stream",
     "text": [
      "Epoch 1/40\n",
      "30/30 [==============================] - 14s 466ms/step - loss: 0.6672 - accuracy: 0.6080 - val_loss: 0.6150 - val_accuracy: 0.6918\n",
      "Epoch 2/40\n",
      "30/30 [==============================] - 14s 460ms/step - loss: 0.5490 - accuracy: 0.7733 - val_loss: 0.5135 - val_accuracy: 0.7880\n",
      "Epoch 3/40\n",
      "30/30 [==============================] - 14s 466ms/step - loss: 0.4270 - accuracy: 0.8529 - val_loss: 0.4218 - val_accuracy: 0.8324\n",
      "Epoch 4/40\n",
      "30/30 [==============================] - 14s 475ms/step - loss: 0.3179 - accuracy: 0.8977 - val_loss: 0.3574 - val_accuracy: 0.8568\n",
      "Epoch 5/40\n",
      "30/30 [==============================] - 14s 468ms/step - loss: 0.2373 - accuracy: 0.9256 - val_loss: 0.3230 - val_accuracy: 0.8653\n",
      "Epoch 6/40\n",
      "30/30 [==============================] - 14s 463ms/step - loss: 0.1788 - accuracy: 0.9487 - val_loss: 0.3064 - val_accuracy: 0.8718\n",
      "Epoch 7/40\n",
      "30/30 [==============================] - 14s 460ms/step - loss: 0.1344 - accuracy: 0.9657 - val_loss: 0.2987 - val_accuracy: 0.8752\n",
      "Epoch 8/40\n",
      "30/30 [==============================] - 14s 459ms/step - loss: 0.1004 - accuracy: 0.9790 - val_loss: 0.2992 - val_accuracy: 0.8750\n",
      "Epoch 9/40\n",
      "30/30 [==============================] - 14s 463ms/step - loss: 0.0750 - accuracy: 0.9867 - val_loss: 0.3044 - val_accuracy: 0.8739\n",
      "Epoch 10/40\n",
      "30/30 [==============================] - 14s 462ms/step - loss: 0.0550 - accuracy: 0.9923 - val_loss: 0.3124 - val_accuracy: 0.8735\n",
      "Epoch 11/40\n",
      "30/30 [==============================] - 14s 467ms/step - loss: 0.0405 - accuracy: 0.9964 - val_loss: 0.3227 - val_accuracy: 0.8736\n",
      "Epoch 12/40\n",
      "30/30 [==============================] - 14s 467ms/step - loss: 0.0299 - accuracy: 0.9981 - val_loss: 0.3336 - val_accuracy: 0.8725\n",
      "Epoch 13/40\n",
      "30/30 [==============================] - 14s 463ms/step - loss: 0.0224 - accuracy: 0.9990 - val_loss: 0.3448 - val_accuracy: 0.8714\n",
      "Epoch 14/40\n",
      "30/30 [==============================] - 14s 477ms/step - loss: 0.0172 - accuracy: 0.9993 - val_loss: 0.3578 - val_accuracy: 0.8704\n",
      "Epoch 15/40\n",
      "30/30 [==============================] - 14s 476ms/step - loss: 0.0133 - accuracy: 0.9999 - val_loss: 0.3681 - val_accuracy: 0.8718\n",
      "Epoch 16/40\n",
      "30/30 [==============================] - 14s 471ms/step - loss: 0.0105 - accuracy: 0.9999 - val_loss: 0.3787 - val_accuracy: 0.8702\n",
      "Epoch 17/40\n",
      "30/30 [==============================] - 14s 467ms/step - loss: 0.0084 - accuracy: 0.9999 - val_loss: 0.3906 - val_accuracy: 0.8707\n",
      "Epoch 18/40\n",
      "30/30 [==============================] - 14s 471ms/step - loss: 0.0069 - accuracy: 0.9999 - val_loss: 0.3999 - val_accuracy: 0.8695\n",
      "Epoch 19/40\n",
      "30/30 [==============================] - 14s 467ms/step - loss: 0.0057 - accuracy: 0.9999 - val_loss: 0.4098 - val_accuracy: 0.8695\n",
      "Epoch 20/40\n",
      "30/30 [==============================] - 14s 469ms/step - loss: 0.0047 - accuracy: 0.9999 - val_loss: 0.4185 - val_accuracy: 0.8698\n",
      "Epoch 21/40\n",
      "30/30 [==============================] - 14s 469ms/step - loss: 0.0040 - accuracy: 1.0000 - val_loss: 0.4273 - val_accuracy: 0.8694\n",
      "Epoch 22/40\n",
      "30/30 [==============================] - 14s 471ms/step - loss: 0.0034 - accuracy: 1.0000 - val_loss: 0.4351 - val_accuracy: 0.8689\n",
      "Epoch 23/40\n",
      "30/30 [==============================] - 14s 465ms/step - loss: 0.0029 - accuracy: 1.0000 - val_loss: 0.4435 - val_accuracy: 0.8694\n",
      "Epoch 24/40\n",
      "30/30 [==============================] - 15s 503ms/step - loss: 0.0026 - accuracy: 1.0000 - val_loss: 0.4515 - val_accuracy: 0.8683\n",
      "Epoch 25/40\n",
      "30/30 [==============================] - 14s 476ms/step - loss: 0.0022 - accuracy: 1.0000 - val_loss: 0.4580 - val_accuracy: 0.8688\n",
      "Epoch 26/40\n",
      "30/30 [==============================] - 14s 469ms/step - loss: 0.0020 - accuracy: 1.0000 - val_loss: 0.4653 - val_accuracy: 0.8684\n",
      "Epoch 27/40\n",
      "30/30 [==============================] - 14s 465ms/step - loss: 0.0018 - accuracy: 1.0000 - val_loss: 0.4716 - val_accuracy: 0.8677\n",
      "Epoch 28/40\n",
      "30/30 [==============================] - 15s 490ms/step - loss: 0.0016 - accuracy: 1.0000 - val_loss: 0.4783 - val_accuracy: 0.8679\n",
      "Epoch 29/40\n",
      "30/30 [==============================] - 15s 491ms/step - loss: 0.0014 - accuracy: 1.0000 - val_loss: 0.4847 - val_accuracy: 0.8671\n",
      "Epoch 30/40\n",
      "30/30 [==============================] - 14s 476ms/step - loss: 0.0013 - accuracy: 1.0000 - val_loss: 0.4905 - val_accuracy: 0.8668\n",
      "Epoch 31/40\n",
      "30/30 [==============================] - 15s 495ms/step - loss: 0.0012 - accuracy: 1.0000 - val_loss: 0.4964 - val_accuracy: 0.8664\n",
      "Epoch 32/40\n",
      "30/30 [==============================] - 14s 460ms/step - loss: 0.0010 - accuracy: 1.0000 - val_loss: 0.5020 - val_accuracy: 0.8663\n",
      "Epoch 33/40\n",
      "30/30 [==============================] - 14s 471ms/step - loss: 9.5727e-04 - accuracy: 1.0000 - val_loss: 0.5076 - val_accuracy: 0.8664\n",
      "Epoch 34/40\n",
      "30/30 [==============================] - 14s 472ms/step - loss: 8.7471e-04 - accuracy: 1.0000 - val_loss: 0.5127 - val_accuracy: 0.8662\n",
      "Epoch 35/40\n",
      "30/30 [==============================] - 14s 470ms/step - loss: 8.0355e-04 - accuracy: 1.0000 - val_loss: 0.5178 - val_accuracy: 0.8660\n",
      "Epoch 36/40\n",
      "30/30 [==============================] - 14s 472ms/step - loss: 7.4009e-04 - accuracy: 1.0000 - val_loss: 0.5230 - val_accuracy: 0.8660\n",
      "Epoch 37/40\n",
      "30/30 [==============================] - 14s 478ms/step - loss: 6.8399e-04 - accuracy: 1.0000 - val_loss: 0.5276 - val_accuracy: 0.8663\n",
      "Epoch 38/40\n",
      "30/30 [==============================] - 14s 479ms/step - loss: 6.3333e-04 - accuracy: 1.0000 - val_loss: 0.5322 - val_accuracy: 0.8663\n",
      "Epoch 39/40\n",
      "30/30 [==============================] - 14s 468ms/step - loss: 5.8866e-04 - accuracy: 1.0000 - val_loss: 0.5371 - val_accuracy: 0.8655\n",
      "Epoch 40/40\n",
      "30/30 [==============================] - 14s 456ms/step - loss: 5.4616e-04 - accuracy: 1.0000 - val_loss: 0.5413 - val_accuracy: 0.8659\n"
     ]
    }
   ],
   "source": [
    "history = model.fit(partial_x_train,\n",
    "                    partial_y_train,\n",
    "                    epochs=40,\n",
    "                    batch_size=512,\n",
    "                    validation_data=(x_val, y_val),\n",
    "                    verbose=1)"
   ]
  },
  {
   "cell_type": "markdown",
   "metadata": {
    "id": "9EEGuDVuzb5r"
   },
   "source": [
    "## Evaluate the model\n",
    "\n",
    "And let's see how the model performs. Two values will be returned. Loss (a number which represents our error, lower values are better), and accuracy."
   ]
  },
  {
   "cell_type": "code",
   "execution_count": 14,
   "metadata": {
    "id": "zOMKywn4zReN"
   },
   "outputs": [
    {
     "name": "stdout",
     "output_type": "stream",
     "text": [
      "data loading time 15.686674999999923s\n",
      "inference time 2.221165000000383s\n"
     ]
    }
   ],
   "source": [
    "start = time.clock()\n",
    "model(test_data)\n",
    "model(train_data)\n",
    "inference_time = time.clock() - start\n",
    "\n",
    "print('data loading time {}s'.format(file_load_time))\n",
    "print('inference time {}s'.format(inference_time))"
   ]
  },
  {
   "cell_type": "markdown",
   "metadata": {
    "id": "z1iEXVTR0Z2t"
   },
   "source": [
    "This fairly naive approach achieves an accuracy of about 87%. With more advanced approaches, the model should get closer to 95%."
   ]
  },
  {
   "cell_type": "markdown",
   "metadata": {
    "id": "5KggXVeL-llZ"
   },
   "source": [
    "## Create a graph of accuracy and loss over time\n",
    "\n",
    "`model.fit()` returns a `History` object that contains a dictionary with everything that happened during training:"
   ]
  },
  {
   "cell_type": "code",
   "execution_count": null,
   "metadata": {
    "id": "VcvSXvhp-llb"
   },
   "outputs": [],
   "source": [
    "history_dict = history.history\n",
    "history_dict.keys()"
   ]
  },
  {
   "cell_type": "markdown",
   "metadata": {
    "id": "nRKsqL40-lle"
   },
   "source": [
    "There are four entries: one for each monitored metric during training and validation. We can use these to plot the training and validation loss for comparison, as well as the training and validation accuracy:"
   ]
  },
  {
   "cell_type": "code",
   "execution_count": null,
   "metadata": {
    "id": "nGoYf2Js-lle"
   },
   "outputs": [],
   "source": [
    "acc = history_dict['accuracy']\n",
    "val_acc = history_dict['val_accuracy']\n",
    "loss = history_dict['loss']\n",
    "val_loss = history_dict['val_loss']\n",
    "\n",
    "epochs = range(1, len(acc) + 1)\n",
    "\n",
    "# \"bo\" is for \"blue dot\"\n",
    "plt.plot(epochs, loss, 'bo', label='Training loss')\n",
    "# b is for \"solid blue line\"\n",
    "plt.plot(epochs, val_loss, 'b', label='Validation loss')\n",
    "plt.title('Training and validation loss')\n",
    "plt.xlabel('Epochs')\n",
    "plt.ylabel('Loss')\n",
    "plt.legend()\n",
    "\n",
    "plt.show()"
   ]
  },
  {
   "cell_type": "code",
   "execution_count": null,
   "metadata": {
    "id": "6hXx-xOv-llh"
   },
   "outputs": [],
   "source": [
    "plt.clf()   # clear figure\n",
    "\n",
    "plt.plot(epochs, acc, 'bo', label='Training acc')\n",
    "plt.plot(epochs, val_acc, 'b', label='Validation acc')\n",
    "plt.title('Training and validation accuracy')\n",
    "plt.xlabel('Epochs')\n",
    "plt.ylabel('Accuracy')\n",
    "plt.legend()\n",
    "\n",
    "plt.show()"
   ]
  },
  {
   "cell_type": "markdown",
   "metadata": {
    "id": "oFEmZ5zq-llk"
   },
   "source": [
    "In this plot, the dots represent the training loss and accuracy, and the solid lines are the validation loss and accuracy.\n",
    "\n",
    "Notice the training loss *decreases* with each epoch and the training accuracy *increases* with each epoch. This is expected when using a gradient descent optimization—it should minimize the desired quantity on every iteration.\n",
    "\n",
    "This isn't the case for the validation loss and accuracy—they seem to peak after about twenty epochs. This is an example of overfitting: the model performs better on the training data than it does on data it has never seen before. After this point, the model over-optimizes and learns representations *specific* to the training data that do not *generalize* to test data.\n",
    "\n",
    "For this particular case, we could prevent overfitting by simply stopping the training after twenty or so epochs. Later, you'll see how to do this automatically with a callback."
   ]
  }
 ],
 "metadata": {
  "colab": {
   "collapsed_sections": [],
   "name": "basic-text-classification Time Test.ipynb",
   "private_outputs": true,
   "provenance": [
    {
     "file_id": "https://github.com/tensorflow/hub/blob/master/examples/colab/tf2_text_classification.ipynb",
     "timestamp": 1612344561492
    }
   ],
   "toc_visible": true
  },
  "kernelspec": {
   "display_name": "Python 3",
   "language": "python",
   "name": "python3"
  },
  "language_info": {
   "codemirror_mode": {
    "name": "ipython",
    "version": 3
   },
   "file_extension": ".py",
   "mimetype": "text/x-python",
   "name": "python",
   "nbconvert_exporter": "python",
   "pygments_lexer": "ipython3",
   "version": "3.6.9"
  }
 },
 "nbformat": 4,
 "nbformat_minor": 1
}
